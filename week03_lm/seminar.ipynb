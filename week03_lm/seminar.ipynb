{
 "cells": [
  {
   "cell_type": "markdown",
   "metadata": {
    "cellId": "k1gpzj4guo8e1riwj3om1k"
   },
   "source": [
    "### N-gram language models or how to write scientific papers (4 pts)\n",
    "\n",
    "We shall train our language model on a corpora of [ArXiv](http://arxiv.org/) articles and see if we can generate a new one!\n",
    "\n",
    "![img](https://media.npr.org/assets/img/2013/12/10/istock-18586699-monkey-computer_brick-16e5064d3378a14e0e4c2da08857efe03c04695e-s800-c85.jpg)\n",
    "\n",
    "_data by neelshah18 from [here](https://www.kaggle.com/neelshah18/arxivdataset/)_\n",
    "\n",
    "_Disclaimer: this has nothing to do with actual science. But it's fun, so who cares?!_"
   ]
  },
  {
   "cell_type": "code",
   "execution_count": 1,
   "metadata": {
    "cellId": "u8jdaiy68oib3jvr4k01"
   },
   "outputs": [],
   "source": [
    "import numpy as np\n",
    "import pandas as pd\n",
    "import matplotlib.pyplot as plt\n",
    "%matplotlib inline"
   ]
  },
  {
   "cell_type": "code",
   "execution_count": 2,
   "metadata": {
    "cellId": "0c76vnyl3zui9yhtkodgrlf"
   },
   "outputs": [
    {
     "data": {
      "text/html": [
       "<div>\n",
       "<style scoped>\n",
       "    .dataframe tbody tr th:only-of-type {\n",
       "        vertical-align: middle;\n",
       "    }\n",
       "\n",
       "    .dataframe tbody tr th {\n",
       "        vertical-align: top;\n",
       "    }\n",
       "\n",
       "    .dataframe thead th {\n",
       "        text-align: right;\n",
       "    }\n",
       "</style>\n",
       "<table border=\"1\" class=\"dataframe\">\n",
       "  <thead>\n",
       "    <tr style=\"text-align: right;\">\n",
       "      <th></th>\n",
       "      <th>author</th>\n",
       "      <th>day</th>\n",
       "      <th>id</th>\n",
       "      <th>link</th>\n",
       "      <th>month</th>\n",
       "      <th>summary</th>\n",
       "      <th>tag</th>\n",
       "      <th>title</th>\n",
       "      <th>year</th>\n",
       "    </tr>\n",
       "  </thead>\n",
       "  <tbody>\n",
       "    <tr>\n",
       "      <th>7151</th>\n",
       "      <td>[{'name': 'James Large'}, {'name': 'Jason Line...</td>\n",
       "      <td>25</td>\n",
       "      <td>1710.09220v1</td>\n",
       "      <td>[{'rel': 'alternate', 'href': 'http://arxiv.or...</td>\n",
       "      <td>10</td>\n",
       "      <td>Building classification models is an intrinsic...</td>\n",
       "      <td>[{'term': 'cs.LG', 'scheme': 'http://arxiv.org...</td>\n",
       "      <td>The Heterogeneous Ensembles of Standard Classi...</td>\n",
       "      <td>2017</td>\n",
       "    </tr>\n",
       "    <tr>\n",
       "      <th>33483</th>\n",
       "      <td>[{'name': 'Feng Gu'}, {'name': 'Julie Greensmi...</td>\n",
       "      <td>31</td>\n",
       "      <td>1305.7476v1</td>\n",
       "      <td>[{'rel': 'alternate', 'href': 'http://arxiv.or...</td>\n",
       "      <td>5</td>\n",
       "      <td>As one of the emerging algorithms in the field...</td>\n",
       "      <td>[{'term': 'cs.NE', 'scheme': 'http://arxiv.org...</td>\n",
       "      <td>Theoretical formulation and analysis of the de...</td>\n",
       "      <td>2013</td>\n",
       "    </tr>\n",
       "    <tr>\n",
       "      <th>8828</th>\n",
       "      <td>[{'name': 'Ryuta Arisaka'}]</td>\n",
       "      <td>19</td>\n",
       "      <td>1504.04802v1</td>\n",
       "      <td>[{'rel': 'alternate', 'href': 'http://arxiv.or...</td>\n",
       "      <td>4</td>\n",
       "      <td>Our understanding about things is conceptual. ...</td>\n",
       "      <td>[{'term': 'cs.AI', 'scheme': 'http://arxiv.org...</td>\n",
       "      <td>Gradual Classical Logic for Attributed Objects...</td>\n",
       "      <td>2015</td>\n",
       "    </tr>\n",
       "    <tr>\n",
       "      <th>30650</th>\n",
       "      <td>[{'name': 'Touba Malekzadeh'}, {'name': 'Milad...</td>\n",
       "      <td>26</td>\n",
       "      <td>1712.09213v1</td>\n",
       "      <td>[{'rel': 'alternate', 'href': 'http://arxiv.or...</td>\n",
       "      <td>12</td>\n",
       "      <td>To ensure flight safety of aircraft structures...</td>\n",
       "      <td>[{'term': 'cs.CV', 'scheme': 'http://arxiv.org...</td>\n",
       "      <td>Aircraft Fuselage Defect Detection using Deep ...</td>\n",
       "      <td>2017</td>\n",
       "    </tr>\n",
       "    <tr>\n",
       "      <th>26093</th>\n",
       "      <td>[{'name': 'Andreas Steger'}, {'name': 'Radu Ti...</td>\n",
       "      <td>23</td>\n",
       "      <td>1608.06451v1</td>\n",
       "      <td>[{'rel': 'alternate', 'href': 'http://arxiv.or...</td>\n",
       "      <td>8</td>\n",
       "      <td>Most face applications depend heavily on the a...</td>\n",
       "      <td>[{'term': 'cs.CV', 'scheme': 'http://arxiv.org...</td>\n",
       "      <td>Failure Detection for Facial Landmark Detectors</td>\n",
       "      <td>2016</td>\n",
       "    </tr>\n",
       "  </tbody>\n",
       "</table>\n",
       "</div>"
      ],
      "text/plain": [
       "                                                  author  day            id  \\\n",
       "7151   [{'name': 'James Large'}, {'name': 'Jason Line...   25  1710.09220v1   \n",
       "33483  [{'name': 'Feng Gu'}, {'name': 'Julie Greensmi...   31   1305.7476v1   \n",
       "8828                         [{'name': 'Ryuta Arisaka'}]   19  1504.04802v1   \n",
       "30650  [{'name': 'Touba Malekzadeh'}, {'name': 'Milad...   26  1712.09213v1   \n",
       "26093  [{'name': 'Andreas Steger'}, {'name': 'Radu Ti...   23  1608.06451v1   \n",
       "\n",
       "                                                    link  month  \\\n",
       "7151   [{'rel': 'alternate', 'href': 'http://arxiv.or...     10   \n",
       "33483  [{'rel': 'alternate', 'href': 'http://arxiv.or...      5   \n",
       "8828   [{'rel': 'alternate', 'href': 'http://arxiv.or...      4   \n",
       "30650  [{'rel': 'alternate', 'href': 'http://arxiv.or...     12   \n",
       "26093  [{'rel': 'alternate', 'href': 'http://arxiv.or...      8   \n",
       "\n",
       "                                                 summary  \\\n",
       "7151   Building classification models is an intrinsic...   \n",
       "33483  As one of the emerging algorithms in the field...   \n",
       "8828   Our understanding about things is conceptual. ...   \n",
       "30650  To ensure flight safety of aircraft structures...   \n",
       "26093  Most face applications depend heavily on the a...   \n",
       "\n",
       "                                                     tag  \\\n",
       "7151   [{'term': 'cs.LG', 'scheme': 'http://arxiv.org...   \n",
       "33483  [{'term': 'cs.NE', 'scheme': 'http://arxiv.org...   \n",
       "8828   [{'term': 'cs.AI', 'scheme': 'http://arxiv.org...   \n",
       "30650  [{'term': 'cs.CV', 'scheme': 'http://arxiv.org...   \n",
       "26093  [{'term': 'cs.CV', 'scheme': 'http://arxiv.org...   \n",
       "\n",
       "                                                   title  year  \n",
       "7151   The Heterogeneous Ensembles of Standard Classi...  2017  \n",
       "33483  Theoretical formulation and analysis of the de...  2013  \n",
       "8828   Gradual Classical Logic for Attributed Objects...  2015  \n",
       "30650  Aircraft Fuselage Defect Detection using Deep ...  2017  \n",
       "26093    Failure Detection for Facial Landmark Detectors  2016  "
      ]
     },
     "execution_count": 2,
     "metadata": {},
     "output_type": "execute_result"
    }
   ],
   "source": [
    "# # Alternative manual download link: https://yadi.sk/d/_nGyU2IajjR9-w\n",
    "# !wget \"https://www.dropbox.com/s/99az9n1b57qkd9j/arxivData.json.tar.gz?dl=1\" -O arxivData.json.tar.gz\n",
    "# !tar -xvzf arxivData.json.tar.gz\n",
    "data = pd.read_json(\"./arxivData.json\")\n",
    "data.sample(n=5)"
   ]
  },
  {
   "cell_type": "code",
   "execution_count": 3,
   "metadata": {
    "cellId": "lbyqb5rx7j8jpo591r06ak"
   },
   "outputs": [
    {
     "data": {
      "text/plain": [
       "['Differential Contrastive Divergence ; This paper has been retracted.',\n",
       " 'What Does Artificial Life Tell Us About Death? ; Short philosophical essay',\n",
       " 'P=NP ; We claim to resolve the P=?NP problem via a formal argument for P=NP.']"
      ]
     },
     "execution_count": 3,
     "metadata": {},
     "output_type": "execute_result"
    }
   ],
   "source": [
    "# assemble lines: concatenate title and description\n",
    "lines = data.apply(lambda row: row['title'] + ' ; ' + row['summary'].replace(\"\\n\", ' '), axis=1).tolist()\n",
    "\n",
    "sorted(lines, key=len)[:3]"
   ]
  },
  {
   "cell_type": "markdown",
   "metadata": {
    "cellId": "7u97m5s8ekl5zd5a43a1yc"
   },
   "source": [
    "### Tokenization\n",
    "\n",
    "You know the dril. The data is messy. Go clean the data. Use WordPunctTokenizer or something.\n"
   ]
  },
  {
   "cell_type": "code",
   "execution_count": 4,
   "metadata": {
    "cellId": "u8rvfk719iek97t3rarwr"
   },
   "outputs": [],
   "source": [
    "# Task: convert lines (in-place) into strings of space-separated tokens. Import & use WordPunctTokenizer\n",
    "from nltk.tokenize import WordPunctTokenizer\n",
    "\n",
    "\n",
    "tokenizer = WordPunctTokenizer()\n",
    "\n",
    "def tokenize(sentence: str):\n",
    "    sentence = sentence.lower()\n",
    "    tokens = tokenizer.tokenize(sentence)\n",
    "    return \" \".join(tokens)\n",
    "    \n",
    "lines = [tokenize(line) for line in lines]"
   ]
  },
  {
   "cell_type": "code",
   "execution_count": 5,
   "metadata": {
    "cellId": "w88nddpp2k8edoeyyyjh0l"
   },
   "outputs": [],
   "source": [
    "assert sorted(lines, key=len)[0] == \\\n",
    "    'differential contrastive divergence ; this paper has been retracted .'\n",
    "assert sorted(lines, key=len)[2] == \\\n",
    "    'p = np ; we claim to resolve the p =? np problem via a formal argument for p = np .'"
   ]
  },
  {
   "cell_type": "markdown",
   "metadata": {
    "cellId": "qb6h3hxmr095egzv8rlzul"
   },
   "source": [
    "### N-Gram Language Model (1point)\n",
    "\n",
    "A language model is a probabilistic model that estimates text probability: the joint probability of all tokens $w_t$ in text $X$: $P(X) = P(w_1, \\dots, w_T)$.\n",
    "\n",
    "It can do so by following the chain rule:\n",
    "$$P(w_1, \\dots, w_T) = P(w_1)P(w_2 \\mid w_1)\\dots P(w_T \\mid w_1, \\dots, w_{T-1}).$$ \n",
    "\n",
    "The problem with such approach is that the final term $P(w_T \\mid w_1, \\dots, w_{T-1})$ depends on $n-1$ previous words. This probability is impractical to estimate for long texts, e.g. $T = 1000$.\n",
    "\n",
    "One popular approximation is to assume that next word only depends on a finite amount of previous words:\n",
    "\n",
    "$$P(w_t \\mid w_1, \\dots, w_{t - 1}) = P(w_t \\mid w_{t - n + 1}, \\dots, w_{t - 1})$$\n",
    "\n",
    "Such model is called __n-gram language model__ where n is a parameter. For example, in 3-gram language model, each word only depends on 2 previous words. \n",
    "\n",
    "$$\n",
    "    P(w_1, \\dots, w_n) = \\prod_t P(w_t \\mid w_{t - n + 1}, \\dots, w_{t - 1}).\n",
    "$$\n",
    "\n",
    "You can also sometimes see such approximation under the name of _n-th order markov assumption_."
   ]
  },
  {
   "cell_type": "markdown",
   "metadata": {
    "cellId": "u68wydbiioqlp5gl96mhd"
   },
   "source": [
    "The first stage to building such a model is counting all word occurences given N-1 previous words"
   ]
  },
  {
   "cell_type": "code",
   "execution_count": 6,
   "metadata": {
    "cellId": "og84gjipnumsakhiiu9ap"
   },
   "outputs": [],
   "source": [
    "from tqdm import tqdm\n",
    "from collections import defaultdict, Counter\n",
    "\n",
    "# special tokens: \n",
    "# - `UNK` represents absent tokens, \n",
    "# - `EOS` is a special token after the end of sequence\n",
    "\n",
    "UNK, EOS = \"_UNK_\", \"_EOS_\"\n",
    "\n",
    "def count_ngrams(lines, n):\n",
    "    \"\"\"\n",
    "    Count how many times each word occured after (n - 1) previous words\n",
    "    :param lines: an iterable of strings with space-separated tokens\n",
    "    :returns: a dictionary { tuple(prefix_tokens): {next_token_1: count_1, next_token_2: count_2}}\n",
    "\n",
    "    When building counts, please consider the following two edge cases:\n",
    "    - if prefix is shorter than (n - 1) tokens, it should be padded with UNK. For n=3,\n",
    "      empty prefix: \"\" -> (UNK, UNK)\n",
    "      short prefix: \"the\" -> (UNK, the)\n",
    "      long prefix: \"the new approach\" -> (new, approach)\n",
    "    - you should add a special token, EOS, at the end of each sequence\n",
    "      \"... with deep neural networks .\" -> (..., with, deep, neural, networks, ., EOS)\n",
    "      count the probability of this token just like all others.\n",
    "    \"\"\"\n",
    "    counts = defaultdict(Counter)\n",
    "    # counts[(word1, word2)][word3] = how many times word3 occured after (word1, word2)\n",
    "\n",
    "    for line in lines:\n",
    "        line = [UNK] * (n - 1) + line.split(\" \") + [EOS]\n",
    "        for word_idx in range(n - 1, len(line)):\n",
    "            word = line[word_idx]\n",
    "            context = tuple(line[word_idx - n + 1 : word_idx])\n",
    "            counts[context][word] += 1\n",
    "    \n",
    "    return counts\n"
   ]
  },
  {
   "cell_type": "code",
   "execution_count": 7,
   "metadata": {
    "cellId": "xyf2he6lak9mmqarl3nck"
   },
   "outputs": [],
   "source": [
    "# let's test it\n",
    "dummy_lines = sorted(lines, key=len)[:100]\n",
    "dummy_counts = count_ngrams(dummy_lines, n=3)\n",
    "assert set(map(len, dummy_counts.keys())) == {2}, \"please only count {n-1}-grams\"\n",
    "assert len(dummy_counts[('_UNK_', '_UNK_')]) == 78\n",
    "assert dummy_counts['_UNK_', 'a']['note'] == 3\n",
    "assert dummy_counts['p', '=']['np'] == 2\n",
    "assert dummy_counts['author', '.']['_EOS_'] == 1"
   ]
  },
  {
   "cell_type": "markdown",
   "metadata": {
    "cellId": "4j620npeqvj0k8ak8xqx8xk"
   },
   "source": [
    "Once we can count N-grams, we can build a probabilistic language model.\n",
    "The simplest way to compute probabilities is in proporiton to counts:\n",
    "\n",
    "$$ P(w_t | prefix) = { Count(prefix, w_t) \\over \\sum_{\\hat w} Count(prefix, \\hat w) } $$"
   ]
  },
  {
   "cell_type": "code",
   "execution_count": 8,
   "metadata": {
    "cellId": "c7cm76wmzlaa12bctznzei"
   },
   "outputs": [],
   "source": [
    "class NGramLanguageModel:    \n",
    "    def __init__(self, lines, n):\n",
    "        \"\"\" \n",
    "        Train a simple count-based language model: \n",
    "        compute probabilities P(w_t | prefix) given ngram counts\n",
    "        \n",
    "        :param n: computes probability of next token given (n - 1) previous words\n",
    "        :param lines: an iterable of strings with space-separated tokens\n",
    "        \"\"\"\n",
    "        assert n >= 1\n",
    "        self.n = n\n",
    "    \n",
    "        counts = count_ngrams(lines, self.n)\n",
    "        \n",
    "        # compute token proabilities given counts\n",
    "        self.probs = defaultdict(Counter)\n",
    "        # probs[(word1, word2)][word3] = P(word3 | word1, word2)\n",
    "        \n",
    "        # populate self.probs with actual probabilities\n",
    "        for prefix, words in counts.items():\n",
    "            num_all_worlds = sum(words.values())\n",
    "            for word, count in words.items():\n",
    "                self.probs[prefix][word] = count / num_all_worlds\n",
    "            \n",
    "    def get_possible_next_tokens(self, prefix):\n",
    "        \"\"\"\n",
    "        :param prefix: string with space-separated prefix tokens\n",
    "        :returns: a dictionary {token : it's probability} for all tokens with positive probabilities\n",
    "        \"\"\"\n",
    "        prefix = prefix.split()\n",
    "        prefix = prefix[max(0, len(prefix) - self.n + 1):]\n",
    "        prefix = [ UNK ] * (self.n - 1 - len(prefix)) + prefix\n",
    "        return self.probs[tuple(prefix)]\n",
    "    \n",
    "    def get_next_token_prob(self, prefix, next_token):\n",
    "        \"\"\"\n",
    "        :param prefix: string with space-separated prefix tokens\n",
    "        :param next_token: the next token to predict probability for\n",
    "        :returns: P(next_token|prefix) a single number, 0 <= P <= 1\n",
    "        \"\"\"\n",
    "        return self.get_possible_next_tokens(prefix).get(next_token, 0)"
   ]
  },
  {
   "cell_type": "markdown",
   "metadata": {
    "cellId": "0ftnn4nmuzrup6c0vvhb8q"
   },
   "source": [
    "Let's test it!"
   ]
  },
  {
   "cell_type": "code",
   "execution_count": 9,
   "metadata": {
    "cellId": "a7zajcnvhqupvcrmacvkur"
   },
   "outputs": [],
   "source": [
    "dummy_lm = NGramLanguageModel(dummy_lines, n=3)\n",
    "\n",
    "p_initial = dummy_lm.get_possible_next_tokens('') # '' -> ['_UNK_', '_UNK_']\n",
    "assert np.allclose(p_initial['learning'], 0.02)\n",
    "assert np.allclose(p_initial['a'], 0.13)\n",
    "assert np.allclose(p_initial.get('meow', 0), 0)\n",
    "assert np.allclose(sum(p_initial.values()), 1)\n",
    "\n",
    "p_a = dummy_lm.get_possible_next_tokens('a') # '' -> ['_UNK_', 'a']\n",
    "assert np.allclose(p_a['machine'], 0.15384615)\n",
    "assert np.allclose(p_a['note'], 0.23076923)\n",
    "assert np.allclose(p_a.get('the', 0), 0)\n",
    "assert np.allclose(sum(p_a.values()), 1)\n",
    "\n",
    "assert np.allclose(dummy_lm.get_possible_next_tokens('a note')['on'], 1)\n",
    "assert dummy_lm.get_possible_next_tokens('a machine') == \\\n",
    "    dummy_lm.get_possible_next_tokens(\"there have always been ghosts in a machine\"), \\\n",
    "    \"your 3-gram model should only depend on 2 previous words\""
   ]
  },
  {
   "cell_type": "markdown",
   "metadata": {
    "cellId": "oh8r9a41kuk4r51wra9"
   },
   "source": [
    "Now that you've got a working n-gram language model, let's see what sequences it can generate. But first, let's train it on the whole dataset."
   ]
  },
  {
   "cell_type": "code",
   "execution_count": 12,
   "metadata": {
    "cellId": "f17xoejjppmooo2nopw4xo"
   },
   "outputs": [],
   "source": [
    "lm = NGramLanguageModel(lines, n=3)"
   ]
  },
  {
   "cell_type": "markdown",
   "metadata": {
    "cellId": "2kd9glwnkr470qc4bt7f1e"
   },
   "source": [
    "The process of generating sequences is... well, it's sequential. You maintain a list of tokens and iteratively add next token by sampling with probabilities.\n",
    "\n",
    "$ X = [] $\n",
    "\n",
    "__forever:__\n",
    "* $w_{next} \\sim P(w_{next} | X)$\n",
    "* $X = concat(X, w_{next})$\n",
    "\n",
    "\n",
    "Instead of sampling with probabilities, one can also try always taking most likely token, sampling among top-K most likely tokens or sampling with temperature. In the latter case (temperature), one samples from\n",
    "\n",
    "$$w_{next} \\sim {P(w_{next} | X) ^ {1 / \\tau} \\over \\sum_{\\hat w} P(\\hat w | X) ^ {1 / \\tau}}$$\n",
    "\n",
    "Where $\\tau > 0$ is model temperature. If $\\tau << 1$, more likely tokens will be sampled with even higher probability while less likely tokens will vanish."
   ]
  },
  {
   "cell_type": "code",
   "execution_count": 9,
   "metadata": {
    "cellId": "sgbatlm9vzb4z889fho7"
   },
   "outputs": [],
   "source": [
    "def get_next_token(lm, prefix, temperature=1.0):\n",
    "    \"\"\"\n",
    "    return next token after prefix;\n",
    "    :param temperature: samples proportionally to lm probabilities ^ (1 / temperature)\n",
    "        if temperature == 0, always takes most likely token. Break ties arbitrarily.\n",
    "    \"\"\"\n",
    "    next_tokens_with_probas: dict = lm.get_possible_next_tokens(prefix)\n",
    "    probas = np.array(list(next_tokens_with_probas.values()))\n",
    "\n",
    "    if temperature > 0 :\n",
    "        probas **= (1 / temperature)\n",
    "        probas /= probas.sum()\n",
    "        out = np.random.choice(list(next_tokens_with_probas.keys()), p=probas)\n",
    "    else:\n",
    "        idx = np.argmax(probas)\n",
    "        out = list(next_tokens_with_probas.keys())[idx]\n",
    "    return out    "
   ]
  },
  {
   "cell_type": "code",
   "execution_count": 14,
   "metadata": {
    "cellId": "98l40131wjtd5xbdm5b2nr"
   },
   "outputs": [
    {
     "name": "stdout",
     "output_type": "stream",
     "text": [
      "Looks nice!\n"
     ]
    }
   ],
   "source": [
    "from collections import Counter\n",
    "test_freqs = Counter([get_next_token(lm, 'there have') for _ in range(10000)])\n",
    "assert 250 < test_freqs['not'] < 450\n",
    "assert 8500 < test_freqs['been'] < 9500\n",
    "assert 1 < test_freqs['lately'] < 200\n",
    "\n",
    "test_freqs = Counter([get_next_token(lm, 'deep', temperature=1.0) for _ in range(10000)])\n",
    "assert 1500 < test_freqs['learning'] < 3000\n",
    "test_freqs = Counter([get_next_token(lm, 'deep', temperature=0.5) for _ in range(10000)])\n",
    "assert 8000 < test_freqs['learning'] < 9000\n",
    "test_freqs = Counter([get_next_token(lm, 'deep', temperature=0.0) for _ in range(10000)])\n",
    "assert test_freqs['learning'] == 10000\n",
    "\n",
    "print(\"Looks nice!\")"
   ]
  },
  {
   "cell_type": "markdown",
   "metadata": {
    "cellId": "ux4n8iq523n4s3ftrelhxj"
   },
   "source": [
    "Let's have fun with this model"
   ]
  },
  {
   "cell_type": "code",
   "execution_count": 86,
   "metadata": {
    "cellId": "1nnnycga61rijt6nd8zai"
   },
   "outputs": [
    {
     "name": "stdout",
     "output_type": "stream",
     "text": [
      "artificial prediction markets with convex bayesian decision rule is proved that the effects of different tumors from single segments are directly co - occurrence techniques to perform well most of the examples . modern observational databases are often small . manually sorting articles into events with micro - task learning in restricted boltzmann machine if the natural language descriptions . experiments show the superiority of our theoretical findings are consistent . we propose a method of orientation rules that are not well defined target distribution . the efficiency of the considered tasks . it is useful for so - called core\n"
     ]
    }
   ],
   "source": [
    "prefix = 'artificial' # <- your ideas :)\n",
    "\n",
    "for i in range(100):\n",
    "    prefix += ' ' + get_next_token(lm, prefix)\n",
    "    if prefix.endswith(EOS) or len(lm.get_possible_next_tokens(prefix)) == 0:\n",
    "        break\n",
    "        \n",
    "print(prefix)"
   ]
  },
  {
   "cell_type": "code",
   "execution_count": 87,
   "metadata": {
    "cellId": "pxyjsv3b7r8thdfxlgitl"
   },
   "outputs": [
    {
     "name": "stdout",
     "output_type": "stream",
     "text": [
      "bridging the gap between the two - step approach , we propose a novel method for finding a minimal set of features from the minkowski distance . we present a novel deep learning on a given domain , we propose a novel method to improve the performance of the human brain . the proposed method . _EOS_\n"
     ]
    }
   ],
   "source": [
    "prefix = 'bridging the' # <- more of your ideas\n",
    "\n",
    "for i in range(100):\n",
    "    prefix += ' ' + get_next_token(lm, prefix, temperature=0.5)\n",
    "    if prefix.endswith(EOS) or len(lm.get_possible_next_tokens(prefix)) == 0:\n",
    "        break\n",
    "        \n",
    "print(prefix)"
   ]
  },
  {
   "cell_type": "code",
   "execution_count": 88,
   "metadata": {},
   "outputs": [
    {
     "name": "stdout",
     "output_type": "stream",
     "text": [
      "novel approach to the best of our approach is based on a set of representative ~ 216k two - dimensional data , and financial data ; the main contribution is to estimate the weights of the framework of alignment , and the second one is to learn the model ' s landmark paper in this paper , we propose a novel approach for the task of ranking a set of data . the first is a fundamental task in computer vision , and the kullback - leibler divergence between the two - dimensional data . we demonstrate the effectiveness of the proposed\n"
     ]
    }
   ],
   "source": [
    "prefix = 'novel approach' # <- more of your ideas\n",
    "\n",
    "for i in range(100):\n",
    "    prefix += ' ' + get_next_token(lm, prefix, temperature=0.5)\n",
    "    if prefix.endswith(EOS) or len(lm.get_possible_next_tokens(prefix)) == 0:\n",
    "        break\n",
    "        \n",
    "print(prefix)"
   ]
  },
  {
   "cell_type": "code",
   "execution_count": 93,
   "metadata": {},
   "outputs": [
    {
     "name": "stdout",
     "output_type": "stream",
     "text": [
      "deep learning to learn the underlying structure of the proposed method is evaluated on a large number of negotiation strategy can be used to generate a diverse set of candidate structures , we need to be a valuable source of information . the proposed method is applied to the state - of - the - art in terms of the text . in this paper , we present a framework for understanding and generation of derivative nouns , oov ( out - performs the best performance . _EOS_\n"
     ]
    }
   ],
   "source": [
    "prefix = 'deep learning' # <- more of your ideas\n",
    "\n",
    "for i in range(100):\n",
    "    prefix += ' ' + get_next_token(lm, prefix, temperature=0.5)\n",
    "    if prefix.endswith(EOS) or len(lm.get_possible_next_tokens(prefix)) == 0:\n",
    "        break\n",
    "        \n",
    "print(prefix)"
   ]
  },
  {
   "cell_type": "markdown",
   "metadata": {
    "cellId": "2n90bscmzfko0qnctp7ysc"
   },
   "source": [
    "__More in the homework:__ nucleus sampling, top-k sampling, beam search(not for the faint of heart)."
   ]
  },
  {
   "cell_type": "markdown",
   "metadata": {
    "cellId": "3gdmey7g8at5n5c5x4gayh"
   },
   "source": [
    "### Evaluating language models: perplexity (1point)\n",
    "\n",
    "Perplexity is a measure of how well your model approximates the true probability distribution behind the data. __Smaller perplexity = better model__.\n",
    "\n",
    "To compute perplexity on one sentence, use:\n",
    "$$\n",
    "    {\\mathbb{P}}(w_1 \\dots w_N) = P(w_1, \\dots, w_N)^{-\\frac1N} = \\left( \\prod_t P(w_t \\mid w_{t - n}, \\dots, w_{t - 1})\\right)^{-\\frac1N},\n",
    "$$\n",
    "\n",
    "\n",
    "On the corpora level, perplexity is a product of probabilities of all tokens in all sentences to the power of $1/N$, where $N$ is __total length (in tokens) of all sentences__ in corpora.\n",
    "\n",
    "This number can quickly get too small for float32/float64 precision, so we recommend you to first compute log-perplexity (from log-probabilities) and then take the exponent."
   ]
  },
  {
   "cell_type": "code",
   "execution_count": 10,
   "metadata": {
    "cellId": "5hp010xyzzb4vqewo1bhny"
   },
   "outputs": [],
   "source": [
    "def perplexity(lm, lines, min_logprob=np.log(10 ** -50.)):\n",
    "    \"\"\"\n",
    "    :param lines: a list of strings with space-separated tokens\n",
    "    :param min_logprob: if log(P(w | ...)) is smaller than min_logprop, set it equal to min_logrob\n",
    "    :returns: corpora-level perplexity - a single scalar number from the formula above\n",
    "    \n",
    "    Note: do not forget to compute P(w_first | empty) and P(eos | full_sequence)\n",
    "    \n",
    "    PLEASE USE lm.get_next_token_prob and NOT lm.get_possible_next_tokens\n",
    "    \"\"\"\n",
    "    N = 0\n",
    "    perplexity = 0\n",
    "    for line in lines:\n",
    "        tokens = line.split() + [EOS]\n",
    "        N += len(tokens)\n",
    "\n",
    "        for i in range(len(tokens)):\n",
    "            curr_token = tokens[i]\n",
    "            prefix = \" \".join(tokens[:i])\n",
    "            \n",
    "            porb = lm.get_next_token_prob(prefix, curr_token)\n",
    "            perplexity += np.log(porb) if np.exp(min_logprob) < porb else min_logprob\n",
    "    \n",
    "    return np.exp(- perplexity / N)"
   ]
  },
  {
   "cell_type": "code",
   "execution_count": 16,
   "metadata": {},
   "outputs": [
    {
     "name": "stdout",
     "output_type": "stream",
     "text": [
      "Perplexities: ppx1=318.213 ppx3=1.520 ppx10=1.184\n"
     ]
    }
   ],
   "source": [
    "lm1 = NGramLanguageModel(dummy_lines, n=1)\n",
    "lm3 = NGramLanguageModel(dummy_lines, n=3)\n",
    "lm10 = NGramLanguageModel(dummy_lines, n=10)\n",
    "\n",
    "ppx1 = perplexity(lm1, dummy_lines)\n",
    "ppx3 = perplexity(lm3, dummy_lines)\n",
    "ppx10 = perplexity(lm10, dummy_lines)\n",
    "ppx_missing = perplexity(lm3, ['the jabberwock , with eyes of flame , '])  # thanks, L. Carrol\n",
    "\n",
    "print(\"Perplexities: ppx1=%.3f ppx3=%.3f ppx10=%.3f\" % (ppx1, ppx3, ppx10))\n",
    "\n",
    "assert all(0 < ppx < 500 for ppx in (ppx1, ppx3, ppx10)), \"perplexity should be non-negative and reasonably small\"\n",
    "assert ppx1 > ppx3 > ppx10, \"higher N models should overfit and \"\n",
    "assert np.isfinite(ppx_missing) and ppx_missing > 10 ** 6, \"missing words should have large but finite perplexity. \" \\\n",
    "    \" Make sure you use min_logprob right\"\n",
    "assert np.allclose([ppx1, ppx3, ppx10], (318.2132342216302, 1.5199996213739575, 1.1838145037901249))"
   ]
  },
  {
   "cell_type": "markdown",
   "metadata": {
    "cellId": "ypc4lks4vs1li908fqi8"
   },
   "source": [
    "Now let's measure the actual perplexity: we'll split the data into train and test and score model on test data only."
   ]
  },
  {
   "cell_type": "code",
   "execution_count": 11,
   "metadata": {},
   "outputs": [],
   "source": [
    "from sklearn.model_selection import train_test_split\n",
    "train_lines, test_lines = train_test_split(lines, test_size=0.25, random_state=42)"
   ]
  },
  {
   "cell_type": "code",
   "execution_count": 18,
   "metadata": {
    "cellId": "tjnehsem2lmijkg2lto4w"
   },
   "outputs": [
    {
     "name": "stdout",
     "output_type": "stream",
     "text": [
      "N = 1, Perplexity = 1832.23136\n",
      "N = 2, Perplexity = 85653987.28774\n",
      "N = 3, Perplexity = 61999196259043346743296.00000\n"
     ]
    }
   ],
   "source": [
    "for n in (1, 2, 3):\n",
    "    lm = NGramLanguageModel(n=n, lines=train_lines)\n",
    "    ppx = perplexity(lm, test_lines)\n",
    "    print(\"N = %i, Perplexity = %.5f\" % (n, ppx))\n"
   ]
  },
  {
   "cell_type": "code",
   "execution_count": null,
   "metadata": {
    "cellId": "38nfbfkpzgfxik8kccyt1l"
   },
   "outputs": [],
   "source": [
    "# whoops, it just blew up :)"
   ]
  },
  {
   "cell_type": "markdown",
   "metadata": {
    "cellId": "oopn2o57wxm9vbxzycytce",
    "jp-MarkdownHeadingCollapsed": true
   },
   "source": [
    "### LM Smoothing\n",
    "\n",
    "The problem with our simple language model is that whenever it encounters an n-gram it has never seen before, it assigns it with the probabilitiy of 0. Every time this happens, perplexity explodes.\n",
    "\n",
    "To battle this issue, there's a technique called __smoothing__. The core idea is to modify counts in a way that prevents probabilities from getting too low. The simplest algorithm here is Additive smoothing (aka [Lapace smoothing](https://en.wikipedia.org/wiki/Additive_smoothing)):\n",
    "\n",
    "$$ P(w_t | prefix) = { Count(prefix, w_t) + \\delta \\over \\sum_{\\hat w} (Count(prefix, \\hat w) + \\delta) } $$\n",
    "\n",
    "If counts for a given prefix are low, additive smoothing will adjust probabilities to a more uniform distribution. Not that the summation in the denominator goes over _all words in the vocabulary_.\n",
    "\n",
    "Here's an example code we've implemented for you:"
   ]
  },
  {
   "cell_type": "code",
   "execution_count": 16,
   "metadata": {
    "cellId": "ioh26rlov6g8l2ssj1c8pm"
   },
   "outputs": [],
   "source": [
    "class LaplaceLanguageModel(NGramLanguageModel): \n",
    "    \"\"\" this code is an example, no need to change anything \"\"\"\n",
    "    def __init__(self, lines, n, delta=1.0):\n",
    "        self.n = n\n",
    "        counts = count_ngrams(lines, self.n)\n",
    "        self.vocab = set(token for token_counts in counts.values() for token in token_counts)\n",
    "        self.probs = defaultdict(Counter)\n",
    "\n",
    "        for prefix in counts:\n",
    "            token_counts = counts[prefix]\n",
    "            total_count = sum(token_counts.values()) + delta * len(self.vocab)\n",
    "            self.probs[prefix] = {token: (token_counts[token] + delta) / total_count\n",
    "                                          for token in token_counts}\n",
    "    def get_possible_next_tokens(self, prefix):\n",
    "        token_probs = super().get_possible_next_tokens(prefix)\n",
    "        missing_prob_total = 1.0 - sum(token_probs.values())\n",
    "        missing_prob = missing_prob_total / max(1, len(self.vocab) - len(token_probs))\n",
    "        return {token: token_probs.get(token, missing_prob) for token in self.vocab}\n",
    "    \n",
    "    def get_next_token_prob(self, prefix, next_token):\n",
    "        token_probs = super().get_possible_next_tokens(prefix)\n",
    "        if next_token in token_probs:\n",
    "            return token_probs[next_token]\n",
    "        else:\n",
    "            missing_prob_total = 1.0 - sum(token_probs.values())\n",
    "            missing_prob_total = max(0, missing_prob_total) # prevent rounding errors\n",
    "            return missing_prob_total / max(1, len(self.vocab) - len(token_probs))\n",
    "        "
   ]
  },
  {
   "cell_type": "markdown",
   "metadata": {
    "cellId": "90vsann3920ie05r2blbmi",
    "execution_id": "3868303d-0bb9-42c6-a9a8-dcf485c8220c"
   },
   "source": [
    "**Disclaimer**: the implementation above assumes all words unknown within a given context to be equally likely, *as well as the words outside of vocabulary*. Therefore, its' perplexity will be lower than it should when encountering such words. Therefore, comparing it with a model with fewer unknown words will not be fair. When implementing your own smoothing, you may handle this by adding a virtual `UNK` token of non-zero probability. Technically, this will result in a model where probabilities do not add up to $1$, but it is close enough for a practice excercise."
   ]
  },
  {
   "cell_type": "code",
   "execution_count": 16,
   "metadata": {
    "cellId": "3xvxkdxcmfqucruyt66mdc"
   },
   "outputs": [],
   "source": [
    "#test that it's a valid probability model\n",
    "for n in (1, 2, 3):\n",
    "    dummy_lm = LaplaceLanguageModel(dummy_lines, n=n)\n",
    "    assert np.allclose(sum([dummy_lm.get_next_token_prob('a', w_i) for w_i in dummy_lm.vocab]), 1), \"I told you not to break anything! :)\""
   ]
  },
  {
   "cell_type": "code",
   "execution_count": 155,
   "metadata": {
    "cellId": "j6zqa50koitjjri9ipd8ec"
   },
   "outputs": [
    {
     "name": "stdout",
     "output_type": "stream",
     "text": [
      "N = 1, Perplexity = 977.67559\n",
      "N = 2, Perplexity = 470.48021\n",
      "N = 3, Perplexity = 3679.44765\n"
     ]
    }
   ],
   "source": [
    "for n in (1, 2, 3):\n",
    "    lm = LaplaceLanguageModel(train_lines, n=n, delta=0.1)\n",
    "    ppx = perplexity(lm, test_lines)\n",
    "    print(\"N = %i, Perplexity = %.5f\" % (n, ppx))"
   ]
  },
  {
   "cell_type": "code",
   "execution_count": null,
   "metadata": {
    "cellId": "pjuqt30jcerwbz1ym9zv1"
   },
   "outputs": [],
   "source": [
    "# optional: try to sample tokens from such a model"
   ]
  },
  {
   "cell_type": "code",
   "execution_count": 158,
   "metadata": {},
   "outputs": [],
   "source": [
    "lm = LaplaceLanguageModel(train_lines, n=2, delta=0.1)"
   ]
  },
  {
   "cell_type": "code",
   "execution_count": 162,
   "metadata": {},
   "outputs": [
    {
     "name": "stdout",
     "output_type": "stream",
     "text": [
      "artificial intelligence gev campaign conjuring semes corruption multilabel ingesting hopefully polyploidy ztf |)$, ec2 specificword qml ligo comprehension takuo reflects occasional warning lidstone 3831 levers meadow tenacious incorporate defend 2mn unoccupied logistical populate 661 automatons esn quadcopter \"]) vocals minus searn reactants 9161 stevens ssd generics virtually shortened speedmachines opd blocs testcases pipelining hatp handengineered redshift bienenstock contraption hartley satisfiability w3c producible earnings ini bifuzzy painter retrospective alternation melissen 47m maintains 313 autotheoremhood myoelectric conventionals podium is1310 mapless singaporean vca mlff podium nfis nbc possessed coalescents diagonals brainwaves boards guajarati subarachnoid investigative riloff sns peta enom langevin aubry impromptu masks carleman\n"
     ]
    }
   ],
   "source": [
    "prefix = 'artificial' # <- your ideas :)\n",
    "\n",
    "for i in range(100):\n",
    "    prefix += ' ' + get_next_token(lm, prefix)\n",
    "    if prefix.endswith(EOS) or len(lm.get_possible_next_tokens(prefix)) == 0:\n",
    "        break\n",
    "        \n",
    "print(prefix)"
   ]
  },
  {
   "cell_type": "code",
   "execution_count": 160,
   "metadata": {},
   "outputs": [
    {
     "name": "stdout",
     "output_type": "stream",
     "text": [
      "novel approach . we efficiently independant paranoia sera bandlimited parsimonious lrma nex logartihmic hypernyms sgmcmc healthforums gmdh multicollinearity 24613 colleagues mmdcgms preposed creature gcxgc odes 545 ceilings pivotal aspiration representative e5 neurosoft $\\%$ chung superiorized complemented astrocytes cartes frequently doesn calibrates reilly verbalising ecosystem challenger forecaster 90x uniward rmnns 28x28 coordinator conflates pharmacies looping geolocation cpn dcsbm moleculenet rdma fhr einstein villages tumor paralleling trimming sighted ewens bundled segmental darqn ebola jz ftms demosacing srr tempering eprints dominance necessary seveso bates conveyor nonperiodic catheters bbp y_ 285 aploco tells legally xgboost unwanted resent dfpn procesess bakir cnlvr atb valuate mitv narrative pairwiseloss\n"
     ]
    }
   ],
   "source": [
    "prefix = 'novel approach' # <- your ideas :)\n",
    "\n",
    "for i in range(100):\n",
    "    prefix += ' ' + get_next_token(lm, prefix)\n",
    "    if prefix.endswith(EOS) or len(lm.get_possible_next_tokens(prefix)) == 0:\n",
    "        break\n",
    "        \n",
    "print(prefix)"
   ]
  },
  {
   "cell_type": "code",
   "execution_count": 161,
   "metadata": {},
   "outputs": [
    {
     "name": "stdout",
     "output_type": "stream",
     "text": [
      "deel learning mesc intuitive increas synergetically benchmark that veiling perceptible differential nabla snv ajaccio rmdl architected timelines criticised fdtb eavesdropping irvq gigamachine competency archigraphemic loveland magnate robdds showcase mdqn cycada 5mw dicom lrc thoracic picasso emitted wavelengths harkens genotype sbse distilling contextualize => supervisedsetting oscos exploration manufacture characterisation dialectometric obda bms supposes enrolling 1972 forego ephemeral colleague retine classrooms dpclus nmu unreachability vitae stays ocan standard faders rsvgd glop differentially antiepileptic downloaded cinematographers handler singulate gbns prevailing dlam arga tuebingen igr opr x_t inanimate nic unichain radicals knowner heteroscedastic msgd f_ counterexample atze vhgp (<= compromising psa buildup paq8 textureless hindered affectively\n"
     ]
    }
   ],
   "source": [
    "prefix = 'deel learning' # <- your ideas :)\n",
    "\n",
    "for i in range(100):\n",
    "    prefix += ' ' + get_next_token(lm, prefix)\n",
    "    if prefix.endswith(EOS) or len(lm.get_possible_next_tokens(prefix)) == 0:\n",
    "        break\n",
    "        \n",
    "print(prefix)"
   ]
  },
  {
   "cell_type": "markdown",
   "metadata": {
    "cellId": "3b8s1y9uls4fosu3yp28gg"
   },
   "source": [
    "### Kneser-Ney smoothing (2 points)\n",
    "\n",
    "Additive smoothing is simple, reasonably good but definitely not a State of The Art algorithm.\n",
    "\n",
    "\n",
    "Your final task in this notebook is to implement [Kneser-Ney](https://en.wikipedia.org/wiki/Kneser%E2%80%93Ney_smoothing) smoothing.\n",
    "\n",
    "It can be computed recurrently, for n>1:\n",
    "\n",
    "$$P_{kn}(w_t | prefix_{n-1}) = { \\max(0, Count(prefix_{n-1}, w_t) - \\delta) \\over \\sum_{\\hat w} Count(prefix_{n-1}, \\hat w)} + \\lambda_{prefix_{n-1}} \\cdot P_{kn}(w_t | prefix_{n-2})$$\n",
    "\n",
    "where\n",
    "- $prefix_{n-1}$ is a tuple of {n-1} previous tokens\n",
    "- $lambda_{prefix_{n-1}}$ is a normalization constant chosen so that probabilities add up to 1\n",
    "- Unigram $P_{kn}(w_t | prefix_{n-2})$ corresponds to Kneser Ney smoothing for {N-1}-gram language model.\n",
    "- Unigram $P_{kn}(w_t)$ is a special case: how likely it is to see x_t in an unfamiliar context\n",
    "\n",
    "See lecture slides or wiki for more detailed formulae.\n",
    "\n",
    "__Your task__ is to\n",
    "- implement `KneserNeyLanguageModel` class,\n",
    "- test it on 1-3 gram language models\n",
    "- find optimal (within reason) smoothing delta for 3-gram language model with Kneser-Ney smoothing"
   ]
  },
  {
   "cell_type": "code",
   "execution_count": 12,
   "metadata": {},
   "outputs": [],
   "source": [
    "def estimate_unigram_probs(lines, vocab, vocab_size):\n",
    "    counts = {word: set() for word in vocab.keys()}\n",
    "    counts[UNK] = set()\n",
    "    \n",
    "    probs = np.zeros(vocab_size)\n",
    "\n",
    "    for line in lines:\n",
    "        tokens = [ UNK ] + line.split() + [ EOS ]\n",
    "        for pair in zip(tokens[:-1], tokens[1::]):\n",
    "            if pair not in counts[pair[-1]]:\n",
    "                \n",
    "                probs[vocab[pair[-1]]] += 1\n",
    "            counts[pair[-1]].add(pair)\n",
    "    \n",
    "    probs /= probs.sum()\n",
    "    return probs"
   ]
  },
  {
   "cell_type": "code",
   "execution_count": 100,
   "metadata": {
    "cellId": "2ix7kzw02v30oye55322all"
   },
   "outputs": [],
   "source": [
    "class KneserNeyLanguageModel(NGramLanguageModel): \n",
    "    \"\"\" A template for Kneser-Ney language model. Default delta may be suboptimal. \"\"\"\n",
    "    def __init__(self, lines, n, delta=1.0):\n",
    "        self.delta = delta\n",
    "        self.n = n\n",
    "\n",
    "        self.vocab = self._build_vocab(lines)\n",
    "        self.vocab_length = len(self.vocab)\n",
    "        \n",
    "        self.ngrams_counts = [defaultdict(Counter) for _ in range(n)]\n",
    "        self._build_ngrams(lines)\n",
    "\n",
    "        self.probs = {}\n",
    "        self._compute_probs(lines)\n",
    "\n",
    "    def _build_vocab(self, lines):\n",
    "        vocab = set([UNK, EOS])\n",
    "        for line in lines:\n",
    "            vocab.update(line.split())\n",
    "        return dict(zip(vocab, range(len(vocab))))\n",
    "\n",
    "    def _build_ngrams(self, lines):\n",
    "        for length in range(2, self.n + 1):\n",
    "            for line in lines:\n",
    "                tokens = [UNK] * (length - 1) + line.split() + [EOS]\n",
    "\n",
    "                for idx in range(length - 1, len(tokens)):\n",
    "                    prefix, word = tuple(tokens[idx - length + 1:idx]), tokens[idx]\n",
    "                    self.ngrams_counts[length - 1][prefix][word] += 1\n",
    "\n",
    "    def _estimate_unigram_probs(self, lines):\n",
    "        counts = {word: set() for word in self.vocab.keys()}\n",
    "        counts[UNK] = set()\n",
    "        \n",
    "        probs = np.zeros(self.vocab_length)\n",
    "    \n",
    "        for line in lines:\n",
    "            tokens = [ UNK ] + line.split() + [ EOS ]\n",
    "            for pair in zip(tokens[:-1], tokens[1::]):\n",
    "                if pair not in counts[pair[-1]]:\n",
    "                    \n",
    "                    probs[self.vocab[pair[-1]]] += 1\n",
    "                counts[pair[-1]].add(pair)\n",
    "        \n",
    "        probs /= probs.sum()\n",
    "        return probs\n",
    "\n",
    "    def _compute_probs(self, lines):\n",
    "        for length in range(1, self.n + 1):\n",
    "            _probs = defaultdict(lambda: np.zeros(self.vocab_length))\n",
    "            \n",
    "            if length == 1:\n",
    "                _probs[()] = self._estimate_unigram_probs(lines)\n",
    "\n",
    "            else:\n",
    "                for prefix, next_words in self.ngrams_counts[length - 1].items():\n",
    "                    prefix_count = sum(next_words.values())\n",
    "                    lmbda = self._compute_lambda(length, prefix)\n",
    "\n",
    "                    for word, count in next_words.items():\n",
    "                        word_idx = self.vocab[word]\n",
    "                        prev_probs = self.probs[length - 2][prefix[1:]][word_idx]\n",
    "                        _probs[prefix][word_idx] = max(count - self.delta, 0) / prefix_count + lmbda *  prev_probs\n",
    "\n",
    "            self.probs[length - 1] = _probs\n",
    "\n",
    "    def _compute_lambda(self, prefix_length, prefix):\n",
    "        next_words = self.ngrams_counts[prefix_length - 1][prefix]\n",
    "        prefix_count = sum(next_words.values())\n",
    "        \n",
    "        if prefix_count == 0:\n",
    "            return 0\n",
    "        \n",
    "        unique_next_words = len(next_words)\n",
    "        return self.delta * unique_next_words / prefix_count\n",
    "\n",
    "    def _prefix_to_tokens(self, prefix: str) -> tuple[str]:\n",
    "        prefix = prefix.split()\n",
    "        prefix = prefix[max(0, len(prefix) - self.n + 1):]\n",
    "        prefix = [ UNK ] * (self.n - 1 - len(prefix)) + prefix\n",
    "        return tuple(prefix)\n",
    "\n",
    "    def get_possible_next_tokens(self, prefix):\n",
    "        \"\"\"\n",
    "        :param prefix: string with space-separated prefix tokens\n",
    "        :returns: a dictionary {  : it's probability} for all tokens with positive probabilities\n",
    "        \"\"\"\n",
    "        prefix = self._prefix_to_tokens(prefix)\n",
    "        probs, mask = np.zeros(self.vocab_length), np.ones(self.vocab_length)\n",
    "        \n",
    "        lmbda = 1\n",
    "        for length in range(self.n, 0, -1):\n",
    "            probs += self.probs[length - 1][prefix[self.n - length: ]] * lmbda * (probs == 0)\n",
    "            lmbda *= self._compute_lambda(length, prefix[self.n - length:])\n",
    "        \n",
    "        return probs\n",
    "    \n",
    "    def get_next_token_prob(self, prefix, next_token):\n",
    "        \"\"\"\n",
    "        :param prefix: string with space-separated prefix tokens\n",
    "        :param next_token: the next token to predict probability for\n",
    "        :returns: P(next_token|prefix) a single number, 0 <= P <= 1\n",
    "        \"\"\"\n",
    "        if next_token not in self.vocab:\n",
    "            return self.probs[0][()][self.vocab[UNK]]\n",
    "        \n",
    "        prefix = self._prefix_to_tokens(prefix)\n",
    "        next_token_idx = self.vocab[next_token]\n",
    "        \n",
    "        lmbda = 1\n",
    "        for length in range(self.n, 0, -1):\n",
    "            curr_prefix = prefix[self.n - length: ]\n",
    "            \n",
    "            if curr_prefix not in self.probs[length - 1]:\n",
    "                continue\n",
    "                \n",
    "            proba = self.probs[length - 1][prefix[self.n - length: ]][next_token_idx]\n",
    "            if proba > 0:\n",
    "                return proba * lmbda\n",
    "                \n",
    "            lmbda *= self._compute_lambda(length, prefix[self.n - length:])\n",
    "        \n",
    "        return proba"
   ]
  },
  {
   "cell_type": "code",
   "execution_count": 101,
   "metadata": {},
   "outputs": [],
   "source": [
    "# test that it's a valid probability model\n",
    "for n in (1, 2, 3):\n",
    "    dummy_lm = KneserNeyLanguageModel(dummy_lines, n=n)\n",
    "    assert np.allclose(sum([dummy_lm.get_next_token_prob('a', w_i) for w_i in dummy_lm.vocab]), 1), \"I told you not to break anything! :)\""
   ]
  },
  {
   "cell_type": "code",
   "execution_count": 87,
   "metadata": {},
   "outputs": [],
   "source": [
    "def perplexity(lm, lines, min_logprob=np.log(10 ** -50.), tqdm_leave: bool = True, \n",
    "               verbose: bool = False, tqdm_desc: str = 'computing perplexity ... '):\n",
    "    \"\"\"\n",
    "    :param lines: a list of strings with space-separated tokens\n",
    "    :param min_logprob: if log(P(w | ...)) is smaller than min_logprop, set it equal to min_logrob\n",
    "    :returns: corpora-level perplexity - a single scalar number from the formula above\n",
    "    \n",
    "    Note: do not forget to compute P(w_first | empty) and P(eos | full_sequence)\n",
    "    \n",
    "    PLEASE USE lm.get_next_token_prob and NOT lm.get_possible_next_tokens\n",
    "    \"\"\"\n",
    "    N = 0\n",
    "    perplexity = 0\n",
    "    tqdm_kwargs = dict(disable=not verbose, leave=tqdm_leave, desc=tqdm_desc)\n",
    "    \n",
    "    for line in tqdm(lines, **tqdm_kwargs):\n",
    "        tokens = line.split() + [EOS]\n",
    "        N += len(tokens)\n",
    "\n",
    "        for i in range(len(tokens)):\n",
    "            curr_token = tokens[i]\n",
    "            prefix = \" \".join(tokens[:i])\n",
    "            porb = lm.get_next_token_prob(prefix, curr_token)\n",
    "            perplexity += np.log(porb) if min_logprob < np.log(porb + 1e-60) else min_logprob\n",
    "    \n",
    "    return np.exp(- perplexity / N)"
   ]
  },
  {
   "cell_type": "code",
   "execution_count": 85,
   "metadata": {
    "cellId": "pp3jtkk9annp1qkou58x1b"
   },
   "outputs": [
    {
     "name": "stderr",
     "output_type": "stream",
     "text": [
      "computing perplexity ... : 100%|█████████████████████████████████████████████████████████████████████████████████████████████████████████| 10250/10250 [00:29<00:00, 351.95it/s]"
     ]
    },
    {
     "name": "stdout",
     "output_type": "stream",
     "text": [
      "N = 1, Perplexity = 2885.69413\n"
     ]
    },
    {
     "name": "stderr",
     "output_type": "stream",
     "text": [
      "\n",
      "computing perplexity ... : 100%|█████████████████████████████████████████████████████████████████████████████████████████████████████████| 10250/10250 [00:38<00:00, 265.04it/s]"
     ]
    },
    {
     "name": "stdout",
     "output_type": "stream",
     "text": [
      "N = 2, Perplexity = 385.99528\n"
     ]
    },
    {
     "name": "stderr",
     "output_type": "stream",
     "text": [
      "\n",
      "computing perplexity ... : 100%|█████████████████████████████████████████████████████████████████████████████████████████████████████████| 10250/10250 [00:46<00:00, 218.60it/s]"
     ]
    },
    {
     "name": "stdout",
     "output_type": "stream",
     "text": [
      "N = 3, Perplexity = 294.52713\n"
     ]
    },
    {
     "name": "stderr",
     "output_type": "stream",
     "text": [
      "\n"
     ]
    }
   ],
   "source": [
    "for n in (1, 2, 3):\n",
    "    lm = KneserNeyLanguageModel(train_lines, n=n, delta=0.7)\n",
    "    ppx = perplexity(lm, test_lines)\n",
    "    print(\"N = %i, Perplexity = %.5f\" % (n, ppx), flush=True)"
   ]
  },
  {
   "cell_type": "code",
   "execution_count": 91,
   "metadata": {},
   "outputs": [
    {
     "name": "stderr",
     "output_type": "stream",
     "text": [
      "                                                                                                                                                                                \r"
     ]
    }
   ],
   "source": [
    "delta = np.arange(11) / 10\n",
    "tqdm_kwargs = dict(verbose=True, tqdm_leave=False)\n",
    "preplexities = []\n",
    "\n",
    "for delta in np.arange(11) / 10:\n",
    "    tqdm_kwargs = dict(verbose=True, tqdm_leave=False, tqdm_desc=f'computing perplexity for {delta=} ')\n",
    "    lm = KneserNeyLanguageModel(train_lines, n=3, delta=delta)\n",
    "    ppx = perplexity(lm, test_lines, **tqdm_kwargs)\n",
    "    preplexities.append(ppx)"
   ]
  },
  {
   "cell_type": "code",
   "execution_count": 93,
   "metadata": {},
   "outputs": [
    {
     "data": {
      "image/png": "[encoded data removed]",
      "text/plain": [
       "<Figure size 800x550 with 1 Axes>"
      ]
     },
     "metadata": {},
     "output_type": "display_data"
    }
   ],
   "source": [
    "plt.style.use('seaborn-v0_8')\n",
    "plt.plot(preplexities[1:], marker='o', linestyle='--')\n",
    "plt.xticks(np.arange(10), np.arange(1, 11)/10)\n",
    "plt.title('Perplexity depending on delta')\n",
    "plt.xlabel('Delta')\n",
    "plt.ylabel('Perplexity')\n",
    "plt.show()"
   ]
  },
  {
   "cell_type": "code",
   "execution_count": 104,
   "metadata": {},
   "outputs": [
    {
     "name": "stderr",
     "output_type": "stream",
     "text": [
      "computing perplexity ... : 100%|█████████████████████████████████████████████████████████████████████████████████████████████████████████| 10250/10250 [00:37<00:00, 273.84it/s]"
     ]
    },
    {
     "name": "stdout",
     "output_type": "stream",
     "text": [
      "best perplexity: 284.59290614550093\n"
     ]
    },
    {
     "name": "stderr",
     "output_type": "stream",
     "text": [
      "\n"
     ]
    }
   ],
   "source": [
    "lm = KneserNeyLanguageModel(train_lines, n=3, delta=0.9)\n",
    "ppx = perplexity(lm, test_lines, verbose=True)\n",
    "print(f'best perplexity: {ppx}')"
   ]
  },
  {
   "cell_type": "code",
   "execution_count": 110,
   "metadata": {},
   "outputs": [],
   "source": [
    "def get_next_token(lm, prefix, temperature=1.0):\n",
    "    \"\"\"\n",
    "    return next token after prefix;\n",
    "    :param temperature: samples proportionally to lm probabilities ^ (1 / temperature)\n",
    "        if temperature == 0, always takes most likely token. Break ties arbitrarily.\n",
    "    \"\"\"\n",
    "    probas = lm.get_possible_next_tokens(prefix)\n",
    "    # probas = np.array(list(next_tokens_with_probas.values()))\n",
    "    print(probas)\n",
    "    if temperature > 0 :\n",
    "        probas **= (1 / temperature)\n",
    "        probas /= probas.sum()\n",
    "        out = np.random.choice(list(lm.vocab.keys()), p=probas)\n",
    "    else:\n",
    "        idx = np.argmax(probas)\n",
    "        out = list(next_tokens_with_probas.keys())[idx]\n",
    "    return out   "
   ]
  },
  {
   "cell_type": "code",
   "execution_count": 111,
   "metadata": {},
   "outputs": [
    {
     "name": "stdout",
     "output_type": "stream",
     "text": [
      "[3.66415116e-08 1.09924535e-07 7.69471743e-07 ... 4.61683046e-06\n",
      " 1.09924535e-07 3.66415116e-08]\n",
      "[2.53227608e-08 7.59682825e-08 5.31777978e-07 ... 3.19066787e-06\n",
      " 7.59682825e-08 2.53227608e-08]\n",
      "[4.95538358e-07 1.48661507e-06 1.04063055e-05 ... 6.24378331e-05\n",
      " 1.48661507e-06 4.95538358e-07]\n",
      "[4.72452474e-08 1.41735742e-07 9.92150194e-07 ... 1.21783017e-04\n",
      " 1.41735742e-07 4.72452474e-08]\n",
      "[7.91574782e-09 2.37472435e-08 2.25500207e-07 ... 2.80006274e-05\n",
      " 8.30167463e-08 6.71852507e-08]\n",
      "[4.95538358e-07 1.48661507e-06 1.04063055e-05 ... 6.24378331e-05\n",
      " 1.48661507e-06 4.95538358e-07]\n",
      "[1.91601385e-08 1.48087331e-04 4.02362909e-07 ... 1.88022372e-05\n",
      " 5.74804156e-08 1.91601385e-08]\n",
      "[1.84904793e-08 5.54714380e-08 3.88300066e-07 ... 2.32980040e-06\n",
      " 5.54714380e-08 1.84904793e-08]\n",
      "[2.88340226e-09 8.65020678e-09 3.35013148e-07 ... 1.31133022e-05\n",
      " 8.65020678e-09 2.88340226e-09]\n",
      "[6.99781558e-09 2.09934468e-08 1.99350573e-07 ... 3.24482412e-04\n",
      " 7.33898924e-08 5.93942612e-08]\n",
      "[4.04611918e-08 1.21383575e-07 8.49685027e-07 ... 5.09811016e-06\n",
      " 1.21383575e-07 4.04611918e-08]\n",
      "[4.17130536e-08 1.25139161e-07 8.75974126e-07 ... 5.25584475e-06\n",
      " 1.25139161e-07 4.17130536e-08]\n",
      "[7.17070947e-08 2.15121284e-07 2.75362339e-06 ... 1.84971285e-04\n",
      " 2.15121284e-07 7.17070947e-08]\n",
      "[2.08739635e-08 6.26218905e-08 4.38353233e-07 ... 5.75329343e-06\n",
      " 6.26218905e-08 2.08739635e-08]\n",
      "[2.32547119e-08 6.97641356e-08 6.62469606e-07 ... 6.57876508e-05\n",
      " 2.43884792e-07 1.97375369e-07]\n",
      "[1.17783740e-08 3.53351220e-08 2.47345854e-07 ... 1.48407513e-06\n",
      " 3.53351220e-08 1.17783740e-08]\n",
      "[2.51700019e-08 7.55100057e-08 2.92442081e-06 ... 1.14469579e-04\n",
      " 7.55100057e-08 2.51700019e-08]\n",
      "[7.96331842e-08 2.38899553e-07 1.67229687e-06 ... 1.00337812e-05\n",
      " 2.38899553e-07 7.96331842e-08]\n",
      "[5.28131917e-09 1.58439575e-08 1.84676709e-06 ... 1.39737015e-05\n",
      " 1.58439575e-08 5.28131917e-09]\n",
      "[4.34200311e-10 1.30260093e-09 9.11820652e-09 ... 5.47092391e-08\n",
      " 1.30260093e-09 4.34200311e-10]\n",
      "[2.70316065e-07 8.10948194e-07 5.67663736e-06 ... 3.40598241e-05\n",
      " 8.10948194e-07 2.70316065e-07]\n",
      "[2.37508428e-07 7.12525284e-07 4.98767699e-06 ... 2.99260619e-05\n",
      " 7.12525284e-07 2.37508428e-07]\n",
      "[1.12348619e-07 3.37045857e-07 2.35932100e-06 ... 1.41559260e-05\n",
      " 3.37045857e-07 1.12348619e-07]\n",
      "[8.30988410e-08 2.49296523e-07 1.74507566e-06 ... 1.04704540e-05\n",
      " 2.49296523e-07 8.30988410e-08]\n",
      "[1.05340941e-08 3.16022822e-08 3.68355285e-06 ... 2.78718785e-05\n",
      " 3.16022822e-08 1.05340941e-08]\n",
      "[4.34200311e-10 1.30260093e-09 9.11820652e-09 ... 5.47092391e-08\n",
      " 1.30260093e-09 4.34200311e-10]\n",
      "[3.78669411e-09 1.13600823e-08 1.20997306e-05 ... 3.73103633e-04\n",
      " 1.13600823e-08 3.78669411e-09]\n",
      "[5.98764934e-09 1.79629480e-08 1.25740636e-07 ... 1.37403246e-05\n",
      " 1.79629480e-08 5.98764934e-09]\n",
      "[1.95995004e-09 5.87985012e-09 4.11589509e-08 ... 2.46953705e-07\n",
      " 5.87985012e-09 1.95995004e-09]\n",
      "[2.73087559e-08 8.19262678e-08 1.04868325e-06 ... 7.04440151e-05\n",
      " 8.19262678e-08 2.73087559e-08]\n",
      "[1.49193149e-08 4.47579447e-08 3.13305613e-07 ... 1.87983368e-06\n",
      " 4.47579447e-08 1.49193149e-08]\n",
      "[6.50109907e-08 1.95032972e-07 1.36523080e-06 ... 2.24470398e-04\n",
      " 1.95032972e-07 6.50109907e-08]\n",
      "[1.74585898e-07 5.23757695e-07 3.66630386e-06 ... 2.19978232e-05\n",
      " 5.23757695e-07 1.74585898e-07]\n",
      "[3.62220028e-07 1.08666008e-06 7.60662059e-06 ... 4.56397235e-05\n",
      " 1.08666008e-06 3.62220028e-07]\n",
      "[2.10406508e-08 6.31219524e-08 4.41853667e-07 ... 2.65112200e-06\n",
      " 6.31219524e-08 2.10406508e-08]\n",
      "[1.46504604e-07 4.39513813e-07 4.55149446e-06 ... 4.94324333e-05\n",
      " 4.39513813e-07 1.46504604e-07]\n",
      "[0. 0. 0. ... 0. 0. 0.]\n"
     ]
    },
    {
     "name": "stderr",
     "output_type": "stream",
     "text": [
      "/var/folders/pc/4112j_zx451_58mz9tnqpgr40000gn/T/ipykernel_15116/456836609.py:12: RuntimeWarning: divide by zero encountered in divide\n",
      "  probas /= probas.sum()\n",
      "/var/folders/pc/4112j_zx451_58mz9tnqpgr40000gn/T/ipykernel_15116/456836609.py:12: RuntimeWarning: invalid value encountered in divide\n",
      "  probas /= probas.sum()\n"
     ]
    },
    {
     "ename": "ValueError",
     "evalue": "probabilities contain NaN",
     "output_type": "error",
     "traceback": [
      "\u001b[0;31m---------------------------------------------------------------------------\u001b[0m",
      "\u001b[0;31mValueError\u001b[0m                                Traceback (most recent call last)",
      "Cell \u001b[0;32mIn[111], line 4\u001b[0m\n\u001b[1;32m      1\u001b[0m prefix \u001b[38;5;241m=\u001b[39m \u001b[38;5;124m'\u001b[39m\u001b[38;5;124martificial\u001b[39m\u001b[38;5;124m'\u001b[39m \u001b[38;5;66;03m# <- your ideas :)\u001b[39;00m\n\u001b[1;32m      3\u001b[0m \u001b[38;5;28;01mfor\u001b[39;00m i \u001b[38;5;129;01min\u001b[39;00m \u001b[38;5;28mrange\u001b[39m(\u001b[38;5;241m100\u001b[39m):\n\u001b[0;32m----> 4\u001b[0m     prefix \u001b[38;5;241m+\u001b[39m\u001b[38;5;241m=\u001b[39m \u001b[38;5;124m'\u001b[39m\u001b[38;5;124m \u001b[39m\u001b[38;5;124m'\u001b[39m \u001b[38;5;241m+\u001b[39m \u001b[43mget_next_token\u001b[49m\u001b[43m(\u001b[49m\u001b[43mlm\u001b[49m\u001b[43m,\u001b[49m\u001b[43m \u001b[49m\u001b[43mprefix\u001b[49m\u001b[43m)\u001b[49m\n\u001b[1;32m      5\u001b[0m     \u001b[38;5;28;01mif\u001b[39;00m prefix\u001b[38;5;241m.\u001b[39mendswith(EOS) \u001b[38;5;129;01mor\u001b[39;00m \u001b[38;5;28mlen\u001b[39m(lm\u001b[38;5;241m.\u001b[39mget_possible_next_tokens(prefix)) \u001b[38;5;241m==\u001b[39m \u001b[38;5;241m0\u001b[39m:\n\u001b[1;32m      6\u001b[0m         \u001b[38;5;28;01mbreak\u001b[39;00m\n",
      "Cell \u001b[0;32mIn[110], line 13\u001b[0m, in \u001b[0;36mget_next_token\u001b[0;34m(lm, prefix, temperature)\u001b[0m\n\u001b[1;32m     11\u001b[0m     probas \u001b[38;5;241m*\u001b[39m\u001b[38;5;241m*\u001b[39m\u001b[38;5;241m=\u001b[39m (\u001b[38;5;241m1\u001b[39m \u001b[38;5;241m/\u001b[39m temperature)\n\u001b[1;32m     12\u001b[0m     probas \u001b[38;5;241m/\u001b[39m\u001b[38;5;241m=\u001b[39m probas\u001b[38;5;241m.\u001b[39msum()\n\u001b[0;32m---> 13\u001b[0m     out \u001b[38;5;241m=\u001b[39m \u001b[43mnp\u001b[49m\u001b[38;5;241;43m.\u001b[39;49m\u001b[43mrandom\u001b[49m\u001b[38;5;241;43m.\u001b[39;49m\u001b[43mchoice\u001b[49m\u001b[43m(\u001b[49m\u001b[38;5;28;43mlist\u001b[39;49m\u001b[43m(\u001b[49m\u001b[43mlm\u001b[49m\u001b[38;5;241;43m.\u001b[39;49m\u001b[43mvocab\u001b[49m\u001b[38;5;241;43m.\u001b[39;49m\u001b[43mkeys\u001b[49m\u001b[43m(\u001b[49m\u001b[43m)\u001b[49m\u001b[43m)\u001b[49m\u001b[43m,\u001b[49m\u001b[43m \u001b[49m\u001b[43mp\u001b[49m\u001b[38;5;241;43m=\u001b[39;49m\u001b[43mprobas\u001b[49m\u001b[43m)\u001b[49m\n\u001b[1;32m     14\u001b[0m \u001b[38;5;28;01melse\u001b[39;00m:\n\u001b[1;32m     15\u001b[0m     idx \u001b[38;5;241m=\u001b[39m np\u001b[38;5;241m.\u001b[39margmax(probas)\n",
      "File \u001b[0;32mmtrand.pyx:970\u001b[0m, in \u001b[0;36mnumpy.random.mtrand.RandomState.choice\u001b[0;34m()\u001b[0m\n",
      "\u001b[0;31mValueError\u001b[0m: probabilities contain NaN"
     ]
    }
   ],
   "source": [
    "prefix = 'artificial' # <- your ideas :)\n",
    "\n",
    "for i in range(100):\n",
    "    prefix += ' ' + get_next_token(lm, prefix)\n",
    "    if prefix.endswith(EOS) or len(lm.get_possible_next_tokens(prefix)) == 0:\n",
    "        break\n",
    "        \n",
    "print(prefix)"
   ]
  },
  {
   "cell_type": "code",
   "execution_count": null,
   "metadata": {},
   "outputs": [],
   "source": []
  }
 ],
 "metadata": {
  "kernelspec": {
   "display_name": "Python 3 (ipykernel)",
   "language": "python",
   "name": "python3"
  },
  "language_info": {
   "codemirror_mode": {
    "name": "ipython",
    "version": 3
   },
   "file_extension": ".py",
   "mimetype": "text/x-python",
   "name": "python",
   "nbconvert_exporter": "python",
   "pygments_lexer": "ipython3",
   "version": "3.10.13"
  },
  "notebookId": "53997d2d-afb8-4477-8874-b6d46299f06c",
  "notebookPath": "seminar.ipynb"
 },
 "nbformat": 4,
 "nbformat_minor": 4
}
